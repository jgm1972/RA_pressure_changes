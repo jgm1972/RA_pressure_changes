{
 "cells": [
  {
   "cell_type": "code",
   "execution_count": 1,
   "id": "9238c0e8-b505-4e99-b29b-062b39037277",
   "metadata": {},
   "outputs": [],
   "source": [
    "import requests\n",
    "import tarfile\n",
    "from io import BytesIO"
   ]
  },
  {
   "cell_type": "code",
   "execution_count": 3,
   "id": "e80bb033-f62d-44c2-a8da-fe6acbf43fe6",
   "metadata": {},
   "outputs": [],
   "source": [
    "year = \"2024\"\n",
    "url = F\"https://www.ncei.noaa.gov/data/local-climatological-data/archive/{year}.tar.gz\"\n",
    "response = requests.get(url, stream=True)"
   ]
  },
  {
   "cell_type": "code",
   "execution_count": 4,
   "id": "d5e5dadb-6daf-48eb-bb7d-0671f560f825",
   "metadata": {},
   "outputs": [],
   "source": [
    "with tarfile.open(fileobj=BytesIO(response.raw.read()), mode=\"r:gz\") as tar_file:\n",
    "    tar_file.extractall(\"../{year}\") # Extracts all contents to the current working directory"
   ]
  },
  {
   "cell_type": "code",
   "execution_count": 5,
   "id": "9086131b-a693-4cae-a3f7-34fec084b708",
   "metadata": {},
   "outputs": [
    {
     "name": "stdout",
     "output_type": "stream",
     "text": [
      "/opt/workspace/ra/workspace\n"
     ]
    }
   ],
   "source": []
  },
  {
   "cell_type": "code",
   "execution_count": null,
   "id": "923df9ab-c383-4cf6-8171-628a75c38caa",
   "metadata": {},
   "outputs": [],
   "source": []
  }
 ],
 "metadata": {
  "kernelspec": {
   "display_name": "Python 3 (ipykernel)",
   "language": "python",
   "name": "python3"
  },
  "language_info": {
   "codemirror_mode": {
    "name": "ipython",
    "version": 3
   },
   "file_extension": ".py",
   "mimetype": "text/x-python",
   "name": "python",
   "nbconvert_exporter": "python",
   "pygments_lexer": "ipython3",
   "version": "3.10.12"
  }
 },
 "nbformat": 4,
 "nbformat_minor": 5
}
