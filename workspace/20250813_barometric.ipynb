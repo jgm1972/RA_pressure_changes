{
 "cells": [
  {
   "cell_type": "code",
   "execution_count": 32,
   "id": "77500c02-8001-4f37-ab15-5c9bb532617c",
   "metadata": {},
   "outputs": [],
   "source": [
    "from sedona.spark import *\n",
    "from pyspark.sql.functions import col, count, countDistinct\n",
    "from pyspark.sql.types import StructType, StructField, StringType, IntegerType, FloatType, DateType\n",
    "import sys, os\n",
    "from sedona.spark.sql.st_constructors import ST_Point\n",
    "from shapely.geometry import Point\n",
    "from sedona.spark.sql.st_functions import GeometryType\n",
    "from sedona.spark import SedonaKepler\n",
    "from pyspark.sql import functions as F\n",
    "from itertools import product\n",
    "from sedona.spark.geopandas import GeoDataFrame, read_parquet\n",
    "from sedona.spark import SedonaContext\n",
    "import sedona\n",
    "\n",
    "\n"
   ]
  },
  {
   "cell_type": "code",
   "execution_count": 16,
   "id": "89880cb3-fce9-4ec6-b758-58b813747571",
   "metadata": {},
   "outputs": [
    {
     "name": "stderr",
     "output_type": "stream",
     "text": [
      "25/10/31 18:03:40 WARN UDTRegistration: Cannot register UDT for org.geotools.coverage.grid.GridCoverage2D, which is already registered.\n",
      "25/10/31 18:03:40 WARN SimpleFunctionRegistry: The function rs_union_aggr replaced a previously registered function.\n",
      "25/10/31 18:03:40 WARN UDTRegistration: Cannot register UDT for org.locationtech.jts.geom.Geometry, which is already registered.\n",
      "25/10/31 18:03:40 WARN UDTRegistration: Cannot register UDT for org.apache.sedona.common.S2Geography.Geography, which is already registered.\n",
      "25/10/31 18:03:40 WARN UDTRegistration: Cannot register UDT for org.locationtech.jts.index.SpatialIndex, which is already registered.\n",
      "25/10/31 18:03:40 WARN SimpleFunctionRegistry: The function st_envelope_aggr replaced a previously registered function.\n",
      "25/10/31 18:03:40 WARN SimpleFunctionRegistry: The function st_intersection_aggr replaced a previously registered function.\n",
      "25/10/31 18:03:40 WARN SimpleFunctionRegistry: The function st_union_aggr replaced a previously registered function.\n"
     ]
    }
   ],
   "source": [
    "# Create a SedonaContext (or SparkSession)\n",
    "#spark = SedonaContext.builder().appName(\"ImportCSVDirectory\").getOrCreate()\n",
    "#sedona = SedonaContext.create(spark)\n",
    "# For anonymous access to public S3 buckets\n",
    "sd = (\n",
    "    SedonaContext.builder()\n",
    "    .config(\n",
    "        \"spark.hadoop.fs.s3a.bucket.bucket-name.aws.credentials.provider\",\n",
    "        \"org.apache.hadoop.fs.s3a.AnonymousAWSCredentialsProvider\",\n",
    "    )\n",
    "    .getOrCreate()\n",
    ")\n",
    "\n",
    "sedona = SedonaContext.create(sd)"
   ]
  },
  {
   "cell_type": "code",
   "execution_count": 17,
   "id": "a715fd32-8fbf-4755-b1bb-f81b8140f3da",
   "metadata": {},
   "outputs": [
    {
     "name": "stderr",
     "output_type": "stream",
     "text": [
      "                                                                                "
     ]
    }
   ],
   "source": [
    "\n",
    "# Path to the directory containing your CSV files\n",
    "directory_path = \"../2024/\"\n",
    "\n",
    "# Read all CSV files from the directory into a DataFrame\n",
    "# Assuming your CSV files have a header\n",
    "#custom_schema = StructType([\n",
    "#StructField(\"STATION\", StringType(), True),\n",
    "#StructField(\"DATE\", DateType(), True),\n",
    "#StructField(\"LATITUDE\", FloatType(), True),\n",
    "#StructField(\"LONGITUDE\", FloatType(), True),\n",
    "#StructField(\"HourlyPressureChange\", FloatType(), True)\n",
    "#])\n",
    "#df = spark.read.option(\"header\", True).schema(custom_schema).format(\"csv\").load(directory_path)\n",
    "df = sd.read.option(\"header\", True).format(\"csv\").load(directory_path)\n",
    "\n",
    "\n",
    "\n",
    "# Show the DataFrame (optional)\n",
    "#df.show(2)\n",
    "\n",
    "# If your CSV files contain geometry data in WKT format (e.g., in a column named \"geom_wkt\"),\n",
    "# you can convert it to a Sedona geometry column:\n",
    "# from sedona.sql.functions import ST_GeomFromText\n",
    "# df = df.withColumn(\"geometry\", ST_GeomFromText(col(\"geom_wkt\"))).drop(\"geom_wkt\")\n",
    "\n",
    "# Now you can work with the DataFrame containing all your CSV data"
   ]
  },
  {
   "cell_type": "code",
   "execution_count": 18,
   "id": "0e9f0a1a-831c-4e5c-bcea-b79f8c71105c",
   "metadata": {},
   "outputs": [
    {
     "name": "stderr",
     "output_type": "stream",
     "text": [
      "                                                                                "
     ]
    },
    {
     "name": "stdout",
     "output_type": "stream",
     "text": [
      "+-----------------------+\n",
      "|count(DISTINCT STATION)|\n",
      "+-----------------------+\n",
      "|                   9179|\n",
      "+-----------------------+\n",
      "\n"
     ]
    },
    {
     "name": "stderr",
     "output_type": "stream",
     "text": [
      "[Stage 33:=====================================================>(970 + 9) / 979]"
     ]
    },
    {
     "name": "stdout",
     "output_type": "stream",
     "text": [
      "+-----------------------+\n",
      "|count(DISTINCT STATION)|\n",
      "+-----------------------+\n",
      "|                  13332|\n",
      "+-----------------------+\n",
      "\n"
     ]
    },
    {
     "name": "stderr",
     "output_type": "stream",
     "text": [
      "                                                                                "
     ]
    }
   ],
   "source": [
    "df_p_diff = df.select(ST_Point(col(\"LONGITUDE\"), col(\"LATITUDE\")).alias(\"GEOMETRY\"),\"STATION\", \"DATE\", \"LATITUDE\", \"LONGITUDE\", \"ELEVATION\", \"NAME\", \"REPORT_TYPE\", \"SOURCE\", \"HourlyDryBulbTemperature\", \"HourlyPressureChange\", \"HourlyPressureTendency\", \"HourlySeaLevelPressure\", \"HourlyStationPressure\", \"HourlyWindDirection\", \"HourlyWindGustSpeed\", \"HourlyWindSpeed\").filter(col(\"HourlyPressureChange\").isNotNull())\n",
    "#print(df_p_diff.groupBy(\"STATION\").agg(countDistinct(\"DATE\").alias(\"HPC_count\")))\n",
    "df_p_diff.select(countDistinct('STATION')).show()\n",
    "#print(df.groupBy(\"STATION\").agg(countDistinct(\"DATE\").alias(\"FULL_count\")))\n",
    "df.select(countDistinct('STATION')).show()"
   ]
  },
  {
   "cell_type": "code",
   "execution_count": 21,
   "id": "01473802-579f-4425-8d4a-64a4285a0b93",
   "metadata": {},
   "outputs": [
    {
     "ename": "ModuleNotFoundError",
     "evalue": "No module named 'sedonadb'",
     "output_type": "error",
     "traceback": [
      "\u001b[0;31m---------------------------------------------------------------------------\u001b[0m",
      "\u001b[0;31mModuleNotFoundError\u001b[0m                       Traceback (most recent call last)",
      "File \u001b[0;32m<timed exec>:1\u001b[0m\n",
      "File \u001b[0;32m/usr/local/lib/python3.10/dist-packages/sedona/db/__init__.py:24\u001b[0m\n\u001b[1;32m     21\u001b[0m track_package_import()\n\u001b[1;32m     23\u001b[0m \u001b[38;5;66;03m# Import the actual sedonadb functions\u001b[39;00m\n\u001b[0;32m---> 24\u001b[0m \u001b[38;5;28;01mfrom\u001b[39;00m\u001b[38;5;250m \u001b[39m\u001b[38;5;21;01msedonadb\u001b[39;00m\u001b[38;5;250m \u001b[39m\u001b[38;5;28;01mimport\u001b[39;00m connect, context, dataframe\n\u001b[1;32m     26\u001b[0m __all__ \u001b[38;5;241m=\u001b[39m [\n\u001b[1;32m     27\u001b[0m     \u001b[38;5;124m\"\u001b[39m\u001b[38;5;124mconnect\u001b[39m\u001b[38;5;124m\"\u001b[39m,\n\u001b[1;32m     28\u001b[0m     \u001b[38;5;124m\"\u001b[39m\u001b[38;5;124mcontext\u001b[39m\u001b[38;5;124m\"\u001b[39m,\n\u001b[1;32m     29\u001b[0m     \u001b[38;5;124m\"\u001b[39m\u001b[38;5;124mdataframe\u001b[39m\u001b[38;5;124m\"\u001b[39m,\n\u001b[1;32m     30\u001b[0m ]\n",
      "\u001b[0;31mModuleNotFoundError\u001b[0m: No module named 'sedonadb'"
     ]
    }
   ],
   "source": [
    "%%time\n",
    "#Figure out why import sedona.db doesn't work\n",
    "import sedona.db\n",
    "df_p_diff.to_view(\"pressure_diff\")\n",
    "sd_con = sedona.db.connect()\n",
    "#result = KNNQuery.SpatialKnnQuery(spatialRDD, spatial_df.first()['geometry'], k, using_index)\n",
    "\n",
    "df_test = sd_con.sql(\"\"\"select STATION, DATE, \n",
    "  ST_Distance(GEOMETRY, POINT(-122, 47.5) as distance, \n",
    "  FROM pressure_diff pd\n",
    "  ORDER BY distance DESC\n",
    "  LIMIT 100\"\"\")\n",
    "df_test.show()"
   ]
  },
  {
   "cell_type": "code",
   "execution_count": 27,
   "id": "565bfac7-1f27-45ae-a0da-38164d942f31",
   "metadata": {},
   "outputs": [
    {
     "name": "stderr",
     "output_type": "stream",
     "text": [
      "[Stage 54:===================================================> (960 + 10) / 979]"
     ]
    }
   ],
   "source": [
    "from sedona.spark import KNNQuery\n",
    "from shapely.geometry import Point\n",
    "#This has to be build with unique locations, or at least stations\n",
    "df_stations = df_p_diff.select(\"GEOMETRY\").distinct()\n",
    "spatialRDD = StructuredAdapter.toSpatialRdd(df_stations, \"GEOMETRY\")"
   ]
  },
  {
   "cell_type": "code",
   "execution_count": 12,
   "id": "98ce6353-da19-4281-b72a-9ac3ed7a74ec",
   "metadata": {
    "collapsed": true,
    "jupyter": {
     "outputs_hidden": true
    }
   },
   "outputs": [
    {
     "name": "stderr",
     "output_type": "stream",
     "text": [
      "[Stage 21:====================================================>(967 + 10) / 979]"
     ]
    },
    {
     "name": "stdout",
     "output_type": "stream",
     "text": [
      "979\n"
     ]
    },
    {
     "name": "stderr",
     "output_type": "stream",
     "text": [
      "                                                                                "
     ]
    }
   ],
   "source": [
    "#Figure out why the number of paritions isn't changing.\n",
    "spatialRDD.analyze()\n",
    "spatialRDD.spatialPartitioning(GridType.KDBTREE, 2500)\n",
    "print(spatialRDD.rawSpatialRDD.getNumPartitions())"
   ]
  },
  {
   "cell_type": "code",
   "execution_count": null,
   "id": "2ed6e25d-4df0-40ab-bbc3-19cbac5f2109",
   "metadata": {
    "collapsed": true,
    "jupyter": {
     "outputs_hidden": true
    }
   },
   "outputs": [],
   "source": []
  },
  {
   "cell_type": "code",
   "execution_count": 29,
   "id": "c81aeb07-bc6c-4cf5-b445-e086b5ad9a8f",
   "metadata": {
    "collapsed": true,
    "jupyter": {
     "outputs_hidden": true
    }
   },
   "outputs": [
    {
     "ename": "Py4JJavaError",
     "evalue": "An error occurred while calling o137.spatialPartitioning.\n: java.lang.Exception: [AbstractSpatialRDD][spatialPartitioning] SpatialRDD boundary is null. Please call analyze() first.\n\tat org.apache.sedona.core.spatialRDD.SpatialRDD.calc_partitioner(SpatialRDD.java:237)\n\tat org.apache.sedona.core.spatialRDD.SpatialRDD.spatialPartitioning(SpatialRDD.java:328)\n\tat java.base/jdk.internal.reflect.NativeMethodAccessorImpl.invoke0(Native Method)\n\tat java.base/jdk.internal.reflect.NativeMethodAccessorImpl.invoke(NativeMethodAccessorImpl.java:76)\n\tat java.base/jdk.internal.reflect.DelegatingMethodAccessorImpl.invoke(DelegatingMethodAccessorImpl.java:52)\n\tat java.base/java.lang.reflect.Method.invoke(Method.java:578)\n\tat py4j.reflection.MethodInvoker.invoke(MethodInvoker.java:244)\n\tat py4j.reflection.ReflectionEngine.invoke(ReflectionEngine.java:374)\n\tat py4j.Gateway.invoke(Gateway.java:282)\n\tat py4j.commands.AbstractCommand.invokeMethod(AbstractCommand.java:132)\n\tat py4j.commands.CallCommand.execute(CallCommand.java:79)\n\tat py4j.ClientServerConnection.waitForCommands(ClientServerConnection.java:182)\n\tat py4j.ClientServerConnection.run(ClientServerConnection.java:106)\n\tat java.base/java.lang.Thread.run(Thread.java:1589)\n",
     "output_type": "error",
     "traceback": [
      "\u001b[0;31m---------------------------------------------------------------------------\u001b[0m",
      "\u001b[0;31mPy4JJavaError\u001b[0m                             Traceback (most recent call last)",
      "File \u001b[0;32m<timed exec>:1\u001b[0m\n",
      "File \u001b[0;32m/usr/local/lib/python3.10/dist-packages/sedona/spark/core/SpatialRDD/spatial_rdd.py:447\u001b[0m, in \u001b[0;36mSpatialRDD.spatialPartitioning\u001b[0;34m(self, partitioning, num_partitions)\u001b[0m\n\u001b[1;32m    432\u001b[0m \u001b[38;5;28;01mdef\u001b[39;00m\u001b[38;5;250m \u001b[39m\u001b[38;5;21mspatialPartitioning\u001b[39m(\n\u001b[1;32m    433\u001b[0m     \u001b[38;5;28mself\u001b[39m,\n\u001b[1;32m    434\u001b[0m     partitioning: Union[\u001b[38;5;28mstr\u001b[39m, GridType, SpatialPartitioner, List[Envelope]],\n\u001b[1;32m    435\u001b[0m     num_partitions: Optional[\u001b[38;5;28mint\u001b[39m] \u001b[38;5;241m=\u001b[39m \u001b[38;5;28;01mNone\u001b[39;00m,\n\u001b[1;32m    436\u001b[0m ) \u001b[38;5;241m-\u001b[39m\u001b[38;5;241m>\u001b[39m \u001b[38;5;28mbool\u001b[39m:\n\u001b[1;32m    437\u001b[0m \u001b[38;5;250m    \u001b[39m\u001b[38;5;124;03m\"\"\"\u001b[39;00m\n\u001b[1;32m    438\u001b[0m \u001b[38;5;124;03m    Calculate partitions and assign items in this RDD to a partition.\u001b[39;00m\n\u001b[1;32m    439\u001b[0m \n\u001b[0;32m   (...)\u001b[0m\n\u001b[1;32m    445\u001b[0m \u001b[38;5;124;03m    :return: True on success\u001b[39;00m\n\u001b[1;32m    446\u001b[0m \u001b[38;5;124;03m    \"\"\"\u001b[39;00m\n\u001b[0;32m--> 447\u001b[0m     \u001b[38;5;28;01mreturn\u001b[39;00m \u001b[38;5;28;43mself\u001b[39;49m\u001b[38;5;241;43m.\u001b[39;49m\u001b[43m_spatial_partitioning_impl\u001b[49m\u001b[43m(\u001b[49m\n\u001b[1;32m    448\u001b[0m \u001b[43m        \u001b[49m\u001b[43mpartitioning\u001b[49m\u001b[43m,\u001b[49m\u001b[43m \u001b[49m\u001b[43mnum_partitions\u001b[49m\u001b[43m,\u001b[49m\u001b[43m \u001b[49m\u001b[38;5;28;43mself\u001b[39;49m\u001b[38;5;241;43m.\u001b[39;49m\u001b[43m_srdd\u001b[49m\u001b[38;5;241;43m.\u001b[39;49m\u001b[43mspatialPartitioning\u001b[49m\n\u001b[1;32m    449\u001b[0m \u001b[43m    \u001b[49m\u001b[43m)\u001b[49m\n",
      "File \u001b[0;32m/usr/local/lib/python3.10/dist-packages/sedona/spark/core/SpatialRDD/spatial_rdd.py:500\u001b[0m, in \u001b[0;36mSpatialRDD._spatial_partitioning_impl\u001b[0;34m(self, partitioning, num_partitions, java_method)\u001b[0m\n\u001b[1;32m    497\u001b[0m \u001b[38;5;28mself\u001b[39m\u001b[38;5;241m.\u001b[39m_spatial_partitioned \u001b[38;5;241m=\u001b[39m \u001b[38;5;28;01mTrue\u001b[39;00m\n\u001b[1;32m    499\u001b[0m \u001b[38;5;28;01mif\u001b[39;00m num_partitions:\n\u001b[0;32m--> 500\u001b[0m     \u001b[38;5;28;01mreturn\u001b[39;00m \u001b[43mjava_method\u001b[49m\u001b[43m(\u001b[49m\u001b[43mgrid\u001b[49m\u001b[43m,\u001b[49m\u001b[43m \u001b[49m\u001b[43mnum_partitions\u001b[49m\u001b[43m)\u001b[49m\n\u001b[1;32m    501\u001b[0m \u001b[38;5;28;01melse\u001b[39;00m:\n\u001b[1;32m    502\u001b[0m     \u001b[38;5;28;01mreturn\u001b[39;00m java_method(grid)\n",
      "File \u001b[0;32m/usr/local/lib/python3.10/dist-packages/py4j/java_gateway.py:1322\u001b[0m, in \u001b[0;36mJavaMember.__call__\u001b[0;34m(self, *args)\u001b[0m\n\u001b[1;32m   1316\u001b[0m command \u001b[38;5;241m=\u001b[39m proto\u001b[38;5;241m.\u001b[39mCALL_COMMAND_NAME \u001b[38;5;241m+\u001b[39m\\\n\u001b[1;32m   1317\u001b[0m     \u001b[38;5;28mself\u001b[39m\u001b[38;5;241m.\u001b[39mcommand_header \u001b[38;5;241m+\u001b[39m\\\n\u001b[1;32m   1318\u001b[0m     args_command \u001b[38;5;241m+\u001b[39m\\\n\u001b[1;32m   1319\u001b[0m     proto\u001b[38;5;241m.\u001b[39mEND_COMMAND_PART\n\u001b[1;32m   1321\u001b[0m answer \u001b[38;5;241m=\u001b[39m \u001b[38;5;28mself\u001b[39m\u001b[38;5;241m.\u001b[39mgateway_client\u001b[38;5;241m.\u001b[39msend_command(command)\n\u001b[0;32m-> 1322\u001b[0m return_value \u001b[38;5;241m=\u001b[39m \u001b[43mget_return_value\u001b[49m\u001b[43m(\u001b[49m\n\u001b[1;32m   1323\u001b[0m \u001b[43m    \u001b[49m\u001b[43manswer\u001b[49m\u001b[43m,\u001b[49m\u001b[43m \u001b[49m\u001b[38;5;28;43mself\u001b[39;49m\u001b[38;5;241;43m.\u001b[39;49m\u001b[43mgateway_client\u001b[49m\u001b[43m,\u001b[49m\u001b[43m \u001b[49m\u001b[38;5;28;43mself\u001b[39;49m\u001b[38;5;241;43m.\u001b[39;49m\u001b[43mtarget_id\u001b[49m\u001b[43m,\u001b[49m\u001b[43m \u001b[49m\u001b[38;5;28;43mself\u001b[39;49m\u001b[38;5;241;43m.\u001b[39;49m\u001b[43mname\u001b[49m\u001b[43m)\u001b[49m\n\u001b[1;32m   1325\u001b[0m \u001b[38;5;28;01mfor\u001b[39;00m temp_arg \u001b[38;5;129;01min\u001b[39;00m temp_args:\n\u001b[1;32m   1326\u001b[0m     \u001b[38;5;28;01mif\u001b[39;00m \u001b[38;5;28mhasattr\u001b[39m(temp_arg, \u001b[38;5;124m\"\u001b[39m\u001b[38;5;124m_detach\u001b[39m\u001b[38;5;124m\"\u001b[39m):\n",
      "File \u001b[0;32m/opt/spark/python/pyspark/errors/exceptions/captured.py:179\u001b[0m, in \u001b[0;36mcapture_sql_exception.<locals>.deco\u001b[0;34m(*a, **kw)\u001b[0m\n\u001b[1;32m    177\u001b[0m \u001b[38;5;28;01mdef\u001b[39;00m\u001b[38;5;250m \u001b[39m\u001b[38;5;21mdeco\u001b[39m(\u001b[38;5;241m*\u001b[39ma: Any, \u001b[38;5;241m*\u001b[39m\u001b[38;5;241m*\u001b[39mkw: Any) \u001b[38;5;241m-\u001b[39m\u001b[38;5;241m>\u001b[39m Any:\n\u001b[1;32m    178\u001b[0m     \u001b[38;5;28;01mtry\u001b[39;00m:\n\u001b[0;32m--> 179\u001b[0m         \u001b[38;5;28;01mreturn\u001b[39;00m \u001b[43mf\u001b[49m\u001b[43m(\u001b[49m\u001b[38;5;241;43m*\u001b[39;49m\u001b[43ma\u001b[49m\u001b[43m,\u001b[49m\u001b[43m \u001b[49m\u001b[38;5;241;43m*\u001b[39;49m\u001b[38;5;241;43m*\u001b[39;49m\u001b[43mkw\u001b[49m\u001b[43m)\u001b[49m\n\u001b[1;32m    180\u001b[0m     \u001b[38;5;28;01mexcept\u001b[39;00m Py4JJavaError \u001b[38;5;28;01mas\u001b[39;00m e:\n\u001b[1;32m    181\u001b[0m         converted \u001b[38;5;241m=\u001b[39m convert_exception(e\u001b[38;5;241m.\u001b[39mjava_exception)\n",
      "File \u001b[0;32m/usr/local/lib/python3.10/dist-packages/py4j/protocol.py:326\u001b[0m, in \u001b[0;36mget_return_value\u001b[0;34m(answer, gateway_client, target_id, name)\u001b[0m\n\u001b[1;32m    324\u001b[0m value \u001b[38;5;241m=\u001b[39m OUTPUT_CONVERTER[\u001b[38;5;28mtype\u001b[39m](answer[\u001b[38;5;241m2\u001b[39m:], gateway_client)\n\u001b[1;32m    325\u001b[0m \u001b[38;5;28;01mif\u001b[39;00m answer[\u001b[38;5;241m1\u001b[39m] \u001b[38;5;241m==\u001b[39m REFERENCE_TYPE:\n\u001b[0;32m--> 326\u001b[0m     \u001b[38;5;28;01mraise\u001b[39;00m Py4JJavaError(\n\u001b[1;32m    327\u001b[0m         \u001b[38;5;124m\"\u001b[39m\u001b[38;5;124mAn error occurred while calling \u001b[39m\u001b[38;5;132;01m{0}\u001b[39;00m\u001b[38;5;132;01m{1}\u001b[39;00m\u001b[38;5;132;01m{2}\u001b[39;00m\u001b[38;5;124m.\u001b[39m\u001b[38;5;130;01m\\n\u001b[39;00m\u001b[38;5;124m\"\u001b[39m\u001b[38;5;241m.\u001b[39m\n\u001b[1;32m    328\u001b[0m         \u001b[38;5;28mformat\u001b[39m(target_id, \u001b[38;5;124m\"\u001b[39m\u001b[38;5;124m.\u001b[39m\u001b[38;5;124m\"\u001b[39m, name), value)\n\u001b[1;32m    329\u001b[0m \u001b[38;5;28;01melse\u001b[39;00m:\n\u001b[1;32m    330\u001b[0m     \u001b[38;5;28;01mraise\u001b[39;00m Py4JError(\n\u001b[1;32m    331\u001b[0m         \u001b[38;5;124m\"\u001b[39m\u001b[38;5;124mAn error occurred while calling \u001b[39m\u001b[38;5;132;01m{0}\u001b[39;00m\u001b[38;5;132;01m{1}\u001b[39;00m\u001b[38;5;132;01m{2}\u001b[39;00m\u001b[38;5;124m. Trace:\u001b[39m\u001b[38;5;130;01m\\n\u001b[39;00m\u001b[38;5;132;01m{3}\u001b[39;00m\u001b[38;5;130;01m\\n\u001b[39;00m\u001b[38;5;124m\"\u001b[39m\u001b[38;5;241m.\u001b[39m\n\u001b[1;32m    332\u001b[0m         \u001b[38;5;28mformat\u001b[39m(target_id, \u001b[38;5;124m\"\u001b[39m\u001b[38;5;124m.\u001b[39m\u001b[38;5;124m\"\u001b[39m, name, value))\n",
      "\u001b[0;31mPy4JJavaError\u001b[0m: An error occurred while calling o137.spatialPartitioning.\n: java.lang.Exception: [AbstractSpatialRDD][spatialPartitioning] SpatialRDD boundary is null. Please call analyze() first.\n\tat org.apache.sedona.core.spatialRDD.SpatialRDD.calc_partitioner(SpatialRDD.java:237)\n\tat org.apache.sedona.core.spatialRDD.SpatialRDD.spatialPartitioning(SpatialRDD.java:328)\n\tat java.base/jdk.internal.reflect.NativeMethodAccessorImpl.invoke0(Native Method)\n\tat java.base/jdk.internal.reflect.NativeMethodAccessorImpl.invoke(NativeMethodAccessorImpl.java:76)\n\tat java.base/jdk.internal.reflect.DelegatingMethodAccessorImpl.invoke(DelegatingMethodAccessorImpl.java:52)\n\tat java.base/java.lang.reflect.Method.invoke(Method.java:578)\n\tat py4j.reflection.MethodInvoker.invoke(MethodInvoker.java:244)\n\tat py4j.reflection.ReflectionEngine.invoke(ReflectionEngine.java:374)\n\tat py4j.Gateway.invoke(Gateway.java:282)\n\tat py4j.commands.AbstractCommand.invokeMethod(AbstractCommand.java:132)\n\tat py4j.commands.CallCommand.execute(CallCommand.java:79)\n\tat py4j.ClientServerConnection.waitForCommands(ClientServerConnection.java:182)\n\tat py4j.ClientServerConnection.run(ClientServerConnection.java:106)\n\tat java.base/java.lang.Thread.run(Thread.java:1589)\n"
     ]
    }
   ],
   "source": [
    "%%time\n",
    "spatialRDD.spatialPartitioning(GridType.KDBTREE, 100)\n",
    "spatialRDD.buildIndex(IndexType.RTREE, True)"
   ]
  },
  {
   "cell_type": "code",
   "execution_count": 8,
   "id": "a2bee3eb-1dd3-4933-8152-773d4dfb5518",
   "metadata": {
    "collapsed": true,
    "jupyter": {
     "outputs_hidden": true
    }
   },
   "outputs": [
    {
     "data": {
      "text/plain": [
       "979"
      ]
     },
     "execution_count": 8,
     "metadata": {},
     "output_type": "execute_result"
    }
   ],
   "source": [
    "spatialRDD.rawSpatialRDD.getNumPartitions()"
   ]
  },
  {
   "cell_type": "code",
   "execution_count": 33,
   "id": "29f669e2-120d-48ba-a93d-6e54519aa71b",
   "metadata": {},
   "outputs": [
    {
     "name": "stdout",
     "output_type": "stream",
     "text": [
      "^-[닄G@, Geometry: Point userData: \u0000\u0000\u0000\u0000\u0000\u0000\u0000\u0000\u0018\u0000\u0000\u0000\u0010\u0000\u0000\u0000\u0012\u0000\u0000\u0000\u0001\u0000\u0000\u0000:^\u001d",
      "HfH@, Geometry: Point userData: \u0000\u0000\u0000\u0000\u0000\u0000\u0000\u0000\u0018\u0000\u0000\u0000\u0010\u0000\u0000\u0000\u0012\u0000\u0000\u0000\u0001\u0000\u0000\u0000R'^{IcBH@, Geometry: Point userData: \u0000\u0000\u0000\u0000\u0000\u0000\u0000\u0000\u0018\u0000\u0000\u0000\u0010\u0000\u0000\u0000\u0012\u0000\u0000\u0000\u0001\u0000\u0000\u0000q=\u0000dz^\u001d",
      "\u0003׻\u001bH@, Geometry: Point userData: \u0000\u0000\u0000\u0000\u0000\u0000\u0000\u0000\u0018\u0000\u0000\u0000\u0010\u0000\u0000\u0000\u0012\u0000\u0000\u0000\u0001\u0000\u0000\u0000n\u0012^u\u0018\u0004V\u000eH@, Geometry: Point userData: \u0000\u0000\u0000\u0000\u0000\u0000\u0000\u0000\u0018\u0000\u0000\u0000\u0010\u0000\u0000\u0000\u0012\u0000\u0000\u0000\u0001\u0000\u0000\u0000ʄ_^~|G@, Geometry: Point userData: \u0000\u0000\u0000\u0000\u0000\u0000\u0000\u0000\u0018\u0000\u0000\u0000\u0010\u0000\u0000\u0000\u0012\u0000\u0000\u0000\u0001\u0000\u0000\u0000Hݝ^Y,;H@, Geometry: Point userData: \u0000\u0000\u0000\u0000\u0000\u0000\u0000\u0000\u0018\u0000\u0000\u0000\u0010\u0000\u0000\u0000\u0012\u0000\u0000\u0000\u0001\u0000\u0000\u0000[Υ^,H@, Geometry: Point userData: \u0000\u0000\u0000\u0000\u0000\u0000\u0000\u0000\u0018\u0000\u0000\u0000\u0010\u0000\u0000\u0000\u0012\u0000\u0000\u0000\u0001\u0000\u0000\u0000w\u001a/^\f",
      "\u0002+\u0016)H@, Geometry: Point userData: \u0000\u0000\u0000\u0000\u0000\u0000\u0000\u0000\u0018\u0000\u0000\u0000\u0010\u0000\u0000\u0000\u0012\u0000\u0000\u0000\u0001\u0000\u0000\u0000^/etry: Point userData: \u0000\u0000\u0000\u0000\u0000\u0000\u0000\u0000\u0018\u0000\u0000\u0000\u0010\u0000\u0000\u0000\u0012\u0000\u0000\u0000\u0001\u0000\u0000\u0000Uj@+^ۅ:\u0014H@, Geometry: Point userData: \u0000\u0000\u0000\u0000\u0000\u0000\u0000\u0000\u0018\u0000\u0000\u0000\u0010\u0000\u0000\u0000\u0012\u0000\u0000\u0000\u0001\u0000\u0000\u0000\n",
      "ף^t\u0018\u0004FH@, Geometry: Point userData: \u0000\u0000\u0000\u0000\u0000\u0000\u0000\u0000\u0018\u0000\u0000\u0000\u0010\u0000\u0000\u0000\u0012\u0000\u0000\u0000\u0001\u0000\u0000\u0000\u001fQ^(\\5H@, Geometry: Point userData: \u0000\u0000\u0000\u0000\u0000\u0000\u0000\u0000\u0018\u0000\u0000\u0000\u0010\u0000\u0000\u0000\u0012\u0000\u0000\u0000\u0001\u0000\u0000\u0000.n\u0001\"^g?RG@, Geometry: Point userData: \u0000\u0000\u0000\u0000\u0000\u0000\u0000\u0000\u0018\u0000\u0000\u0000\u0010\u0000\u0000\u0000\u0012\u0000\u0000\u0000\u0001\u0000\u0000\u0000n\u0012^X9vnH@, Geometry: Point userData: \u0000\u0000\u0000\u0000\u0000\u0000\u0000\u0000\u0018\u0000\u0000\u0000\u0010\u0000\u0000\u0000\u0012\u0000\u0000\u0000\u0001\u0000\u0000\u0000#\u000e@^v;O<H@, Geometry: Point userData: \u0000\u0000\u0000\u0000\u0000\u0000\u0000\u0000\u0018\u0000\u0000\u0000\u0010\u0000\u0000\u0000\u0012\u0000\u0000\u0000\u0001\u0000\u0000\u0000\\(^\u0000\u0000\u0000\u0000\u0000\u0010H@, Geometry: Point userData: \u0000\u0000\u0000\u0000\u0000\u0000\u0000\u0000\u0018\u0000\u0000\u0000\u0010\u0000\u0000\u0000\u0012\u0000\u0000\u0000\u0001\u0000\u0000\u0000\u0013CD^333333H@, Geometry: Point userData: \u0000\u0000\u0000\u0000\u0000\u0000\u0000\u0000\u0018\u0000\u0000\u0000\u0010\u0000\u0000\u0000\u0012\u0000\u0000\u0000\u0001\u0000\u0000\u000033333^9H@, Geometry: Point userData: \u0000\u0000\u0000\u0000\u0000\u0000\u0000\u0000\u0018\u0000\u0000\u0000\u0010\u0000\u0000\u0000\u0012\u0000\u0000\u0000\u0001\u0000\u0000\u0000Jvl^\tܺ\u000fH@, Geometry: Point userData: \u0000\u0000\u0000\u0000\u0000\u0000\u0000\u0000\u0018\u0000\u0000\u0000\u0010\u0000\u0000\u0000\u0012\u0000\u0000\u0000\u0001\u0000\u0000\u0000,\u000eg~5^P6\n",
      "G@, Geometry: Point userData: \u0000\u0000\u0000\u0000\u0000\u0000\u0000\u0000\u0018\u0000\u0000\u0000\u0010\u0000\u0000\u0000\u0012\u0000\u0000\u0000\u0001\u0000\u0000\u0000{\u0010\u0011^!\"H@, Geometry: Point userData: \u0000\u0000\u0000\u0000\u0000\u0000\u0000\u0000\u0018\u0000\u0000\u0000\u0010\u0000\u0000\u0000\u0012\u0000\u0000\u0000\u0001\u0000\u0000\u0000Q\u001e",
      "^ףp=w^!\"bH@, Geometry: Point userData: \u0000\u0000\u0000\u0000\u0000\u0000\u0000\u0000\u0018\u0000\u0000\u0000\u0010\u0000\u0000\u0000\u0012\u0000\u0000\u0000\u0001\u0000\u0000\u0000\u0018\u0004V\u000e^!rh\n",
      "^1߄BF@, Geometry: Point userData: \u0000\u0000\u0000\u0000\u0000\u0000\u0000\u0000\u0018\u0000\u0000\u0000\u0010\u0000\u0000\u0000\u0012\u0000\u0000\u0000\u0001\u0000\u0000\u0000\u000fE>^\\wT|G@, Geometry: Point userData: \u0000\u0000\u0000\u0000\u0000\u0000\u0000\u0000\u0018\u0000\u0000\u0000\u0010\u0000\u0000\u0000\u0012\u0000\u0000\u0000\u0001\u0000\u0000\u0000#񗻻^F/wwH@, Geometry: Point userData: \u0000\u0000\u0000\u0000\u0000\u0000\u0000\u0000\u0018\u0000\u0000\u0000\u0010\u0000\u0000\u0000\u0012\u0000\u0000\u0000\u0001\u0000\u0000\u0000\u001d",
      "J^<;F@, Geometry: Point userData: \u0000\u0000\u0000\u0000\u0000\u0000\u0000\u0000\u0018\u0000\u0000\u0000\u0010\u0000\u0000\u0000\u0012\u0000\u0000\u0000\u0001\u0000\u0000\u0000a4^\u0006ZјH@, Geometry: Point userData: \u0000\u0000\u0000\u0000\u0000\u0000\u0000\u0000\u0018\u0000\u0000\u0000\u0010\u0000\u0000\u0000\u0012\u0000\u0000\u0000\u0001\u0000\u0000\u0000y\u0015c^{\u0010\u00111H@, Geometry: Point userData: \u0000\u0000\u0000\u0000\u0000\u0000\u0000\u0000\u0018\u0000\u0000\u0000\u0010\u0000\u0000\u0000\u0012\u0000\u0000\u0000\u0001\u0000\u0000\u0000(\\^vZG@, Geometry: Point userData: \u0000\u0000\u0000\u0000\u0000\u0000\u0000\u0000\u0018\u0000\u0000\u0000\u0010\u0000\u0000\u0000\u0012\u0000\u0000\u0000\u0001\u0000\u0000\u0000H^%^hH@, Geometry: Point userData: \u0000\u0000\u0000\u0000\u0000\u0000\u0000\u0000\u0018\u0000\u0000\u0000\u0010\u0000\u0000\u0000\u0012\u0000\u0000\u0000\u0001\u0000\u00008*^YQi\u0018F@, Geometry: Point userData: \u0000\u0000\u0000\u0000\u0000\u0000\u0000\u0000\u0018\u0000\u0000\u0000\u0010\u0000\u0000\u0000\u0012\u0000\u0000\u0000\u0001\u0000\u0000\u0000F/ww\u0007_*TUuG@, Geometry: Point userData: \u0000\u0000\u0000\u0000\u0000\u0000\u0000\u0000\u0018\u0000\u0000\u0000\u0010\u0000\u0000\u0000\u0012\u0000\u0000\u0000\u0001\u0000\u0000\u0000^̬H@, Geometry: Point userData: \u0000\u0000\u0000\u0000\u0000\u0000\u0000\u0000\u0018\u0000\u0000\u0000\u0010\u0000\u0000\u0000\u0012\u0000\u0000\u0000\u0001\u0000\u0000\"4^\f",
      "(FH@, Geometry: Point userData: \u0000\u0000\u0000\u0000\u0000\u0000\u0000\u0000\u0018\u0000\u0000\u0000\u0010\u0000\u0000\u0000\u0012\u0000\u0000\u0000\u0001\u0000\u0000\u0000\\wT^#\u0016\u0014G@, Geometry: Point userData: \u0000\u0000\u0000\u0000\u0000\u0000\u0000\u0000\u0018\u0000\u0000\u0000\u0010\u0000\u0000\u0000\u0012\u0000\u0000\u0000\u0001\u0000\u0000\u000033333^ҽH@, Geometry: Point userData: \u0000\u0000\u0000\u0000\u0000\u0000\u0000\u0000\u0018\u0000\u0000\u0000\u0010\u0000\u0000\u0000\u0012\u0000\u0000\u0000\u0001\u0000\u0000\u0000z6>W^:@0GF@, Geometry: Point userData: \u0000\u0000\u0000\u0000\u0000\u0000\u0000\u0000\u0018\u0000\u0000\u0000\u0010\u0000\u0000\u0000\u0012\u0000\u0000\u0000\u0001\u0000\u0000\u0000\u0000\u0000\u0000\u0000\u0000 ^Y,H@, Geometry: Point userData: \u0000\u0000\u0000\u0000\u0000\u0000\u0000\u0000\u0018\u0000\u0000\u0000\u0010\u0000\u0000\u0000\u0012\u0000\u0000\u0000\u0001\u0000\u0000\u000033333^Y,H@, Geometry: Point userData: \u0000\u0000\u0000\u0000\u0000\u0000\u0000\u0000\u0018\u0000\u0000\u0000\u0010\u0000\u0000\u0000\u0012\u0000\u0000\u0000\u0001\u0000\u0000\u0000ףp=\n",
      "F@, Geometry: Point userData: \u0000\u0000\u0000\u0000\u0000\u0000\u0000\u0000\u0018\u0000\u0000\u0000\u0010\u0000\u0000\u0000\u0012\u0000\u0000\u0000\u0001\u0000\u0000\u0000^H@, Geometry: Point userData: \u0000\u0000\u0000\u0000\u0000\u0000\u0000\u0000\u0018\u0000\u0000\u0000\u0010\u0000\u0000\u0000\u0012\u0000\u0000\u0000\u0001\u0000\u0000\u0000\u0014:#_]CG@, Geometry: Point userData: \u0000\u0000\u0000\u0000\u0000\u0000\u0000\u0000\u0018\u0000\u0000\u0000\u0010\u0000\u0000\u0000\u0012\u0000\u0000\u0000\u0001\u0000\u0000\u00003V],N\u0006;H@, Geometry: Point userData: \u0000\u0000\u0000\u0000\u0000\u0000\u0000\u0000\u0018\u0000\u0000\u0000\u0010\u0000\u0000\u0000\u0012\u0000\u0000\u0000\u0001\u0000\u0000\u0000\u001e",
      "Q(_(\\G@, Geometry: Point userData: \u0000\u0000\u0000\u0000\u0000\u0000\u0000\u0000\u0018\u0000\u0000\u0000\u0010\u0000\u0000\u0000\u0012\u0000\u0000\u0000\u0001\u0000\u0000\u0000i\u0018>\"]镲G@, Geometry: Point userData: \u0000\u0000\u0000\u0000\u0000\u0000\u0000\u0000\u0018\u0000\u0000\u0000\u0010\u0000\u0000\u0000\u0012\u0000\u0000\u0000\u0001\u0000\u0000\u0000A`^ףp=\n",
      " F@, Geometry: Point userData: \u0000\u0000\u0000\u0000\u0000\u0000\u0000\u0000\u0018\u0000\u0000\u0000\u0010\u0000\u0000\u0000\u0012\u0000\u0000\u0000\u0001\u0000\u0000\u0000V$\u001e",
      "_y\u0015cH@, Geometry: Point userData: \u0000\u0000\u0000\u0000\u0000\u0000\u0000\u0000\u0018\u0000\u0000\u0000\u0010\u0000\u0000\u0000\u0012\u0000\u0000\u0000\u0001\u0000\u0000\u0000y\u0015c:_%^H@, Geometry: Point userData: \u0000\u0000\u0000\u0000\u0000\u0000\u0000\u0000\u0018\u0000\u0000\u0000\u0010\u0000\u0000\u0000\u0012\u0000\u0000\u0000\u0001\u0000\u0000\u0000n\u0012\u0002_\u0000\u0000\u0000\u0000\u0000PF@, Geometry: Point userData: \u0000\u0000\u0000\u0000\u0000\u0000\u0000\u0000\u0018\u0000\u0000\u0000\u0010\u0000\u0000\u0000\u0012\u0000\u0000\u0000\u0001\u0000\u0000\u0000\u001c",
      "^YI@, Geometry: Point userData: \u0000\u0000\u0000\u0000\u0000\u0000\u0000\u0000\u0018\u0000\u0000\u0000\u0010\u0000\u0000\u0000\u0012\u0000\u0000\u0000\u0001\u0000\u0000\u00009?q\u001c",
      "^\u000fD\u0016iYI@]etry: Point userData: \u0000\u0000\u0000\u0000\u0000\u0000\u0000\u0000\u0018\u0000\u0000\u0000\u0010\u0000\u0000\u0000\u0012\u0000\u0000\u0000\u0001\u0000\u0000\u0000F/ww^33333\u0013I@, Geometry: Point userData: \u0000\u0000\u0000\u0000\u0000\u0000\u0000\u0000\u0018\u0000\u0000\u0000\u0010\u0000\u0000\u0000\u0012\u0000\u0000\u0000\u0001\u0000\u0000\u0000V$^fffff&I@, Geometry: Point userData: \u0000\u0000\u0000\u0000\u0000\u0000\u0000\u0000\u0018\u0000\u0000\u0000\u0010\u0000\u0000\u0000\u0012\u0000\u0000\u0000\u0001\u0000\u0000\u0000#񗻻]\u0013CDH@, Geometry: Point userData: \u0000\u0000\u0000\u0000\u0000\u0000\u0000\u0000\u0018\u0000\u0000\u0000\u0010\u0000\u0000\u0000\u0012\u0000\u0000\u0000\u0001\u0000\u0000\u0000\u0019_y\u0015cH@, Geometry: Point userData: \u0000\u0000\u0000\u0000\u0000\u0000\u0000\u0000\u0018\u0000\u0000\u0000\u0010\u0000\u0000\u0000\u0012\u0000\u0000\u0000\u0001\u0000\u0000\u0000$Ί]\u001bDkEH@, Geometry: Point userData: \u0000\u0000\u0000\u0000\u0000\u0000\u0000\u0000\u0018\u0000\u0000\u0000\u0010\u0000\u0000\u0000\u0012\u0000\u0000\u0000\u0001\u0000\u0000\u0000]y\\TH@, Geometry: Point userData: \u0000\u0000\u0000\u0000\u0000\u0000\u0000\u0000\u0018\u0000\u0000\u0000\u0010\u0000\u0000\u0000\u0012\u0000\u0000\u0000\u0001\u0000\u0000\u0000]\"~\"G@, Geometry: Point userData: \u0000\u0000\u0000\u0000\u0000\u0000\u0000\u0000\u0018\u0000\u0000\u0000\u0010\u0000\u0000\u0000\u0012\u0000\u0000\u0000\u0001\u0000\u0000\u0000#񗻻\u001b_HݽH@, Geometry: Point userData: \u0000\u0000\u0000\u0000\u0000\u0000\u0000\u0000\u0018\u0000\u0000\u0000\u0010\u0000\u0000\u0000\u0012\u0000\u0000\u0000\u0001\u0000\u0000\u0000#񗻻{^F/wwWI@, Geometry: Point userData: \u0000\u0000\u0000\u0000\u0000\u0000\u0000\u0000\u0018\u0000\u0000\u0000\u0010\u0000\u0000\u0000\u0012\u0000\u0000\u0000\u0001\u0000\u0000\u0000%]\u0019X\u0017F@, Geometry: Point userData: \u0000\u0000\u0000\u0000\u0000\u0000\u0000\u0000\u0018\u0000\u0000\u0000\u0010\u0000\u0000\u0000\u0012\u0000\u0000\u0000\u0001\u0000\u0000\u0000r&\u0014\"^\u0000\u0000\u0000\u0000\u0000@F@, Geometry: Point userData: \u0000\u0000\u0000\u0000\u0000\u0000\u0000\u0000\u0018\u0000\u0000\u0000\u0010\u0000\u0000\u0000\u0012\u0000\u0000\u0000\u0001\u0000\u0000\u0000{\u0010\u0011Q^YI@, Geometry: Point userData: \u0000\u0000\u0000\u0000\u0000\u0000\u0000\u0000\u0018\u0000\u0000\u0000\u0010\u0000\u0000\u0000\u0012\u0000\u0000\u0000\u0001\u0000\u0000\u0000\u0005:\u0001I^(\n",
      "CPU times: user 21.8 ms, sys: 7.96 ms, total: 29.8 ms\n",
      "Wall time: 360 ms\n"
     ]
    },
    {
     "name": "stderr",
     "output_type": "stream",
     "text": [
      "                                                                                "
     ]
    }
   ],
   "source": [
    "%%time\n",
    "k = 100\n",
    "using_index = False\n",
    "result = KNNQuery.SpatialKnnQuery(spatialRDD, Point(-122, 47.5), k, using_index)\n",
    "print(result)"
   ]
  },
  {
   "cell_type": "code",
   "execution_count": null,
   "id": "9eef3ee6-fd16-4df6-99a7-2a8046399056",
   "metadata": {
    "collapsed": true,
    "jupyter": {
     "outputs_hidden": true
    }
   },
   "outputs": [],
   "source": [
    "#Player around.  Use some of this code.\n",
    "df_pressure_diff = df.select(ST_Point(col(\"LONGITUDE\"), col(\"LATITUDE\")),\"STATION\", \"DATE\", \"LATITUDE\", \"LONGITUDE\", \"ELEVATION\", \"NAME\", \"REPORT_TYPE\", \"SOURCE\", \"HourlyDryBulbTemperature\", \"HourlyPressureChange\", \"HourlyPressureTendency\", \"HourlySeaLevelPressure\", \"HourlyStationPressure\", \"HourlyWindDirection\", \"HourlyWindGustSpeed\", \"HourlyWindSpeed\").filter(col(\"HourlyPressureChange\").isNotNull()).show()\n",
    "df.filter(col(\"HourlySeaLevelPressure\").isNotNull() | col(\"HourlyStationPressure\").isNotNull()).count()\n",
    "#counts of records with different filters\n",
    "df.count()\n",
    "#130,112,717 37,352,572 77,319,947 77,210,243\n",
    "aggregated = df.groupby('STATION', 'DATE').agg({abs('HourlyPressureChange'): 'min', abs('HourlyPressureChange'): 'min'})\n",
    "df['AbsPressure'] = df['HourlyPressureChange'].abs()\n",
    "from pyspark.sql import functions as F\n",
    "df = df.withColumn(\"absPressure\", F.abs(F.col(\"HourlyPressureChange\")))\n",
    "df.tail(10)\n",
    "df.agg(F.min('HourlyPressureChange')).show()\n",
    "df.filter(col('HourlyPressureChange').isNotNull()).withColumn(\"HourlyPressureChange\", col(\"HourlyPressureChange\").cast(FloatType())).groupby('STATION', 'DATE')\\\n",
    ".agg({abs('HourlyPressureChange'): 'min', abs('HourlyPressureChange'): 'min'})"
   ]
  },
  {
   "cell_type": "code",
   "execution_count": null,
   "id": "cbf0581b-f10b-4a3c-a2ce-403730052cc9",
   "metadata": {
    "collapsed": true,
    "jupyter": {
     "outputs_hidden": true
    }
   },
   "outputs": [],
   "source": [
    "#Using Overtures instread\n",
    "#import geopandas as gpd\n",
    "\n",
    "#url = \"https://naciscdn.org/naturalearth/110m/cultural/ne_110m_admin_0_countries.zip\"\n",
    "\n",
    "\n",
    "#gdf = gpd.read_file(url)\n",
    "#gdf\n",
    "#df_conus = sedona.createDataFrame(gdf[(gdf.SOV_A3=='US1') & (gdf.TYPE=='Country')][['SOVEREIGNT', 'geometry']])\n",
    "#map = SedonaKepler.create_map(df=df_conus, name=\"CONUS\")\n",
    "#map\n"
   ]
  },
  {
   "cell_type": "code",
   "execution_count": 12,
   "id": "e6410458-8d6a-4a41-9b86-54d1baec2453",
   "metadata": {
    "collapsed": true,
    "jupyter": {
     "outputs_hidden": true
    }
   },
   "outputs": [
    {
     "name": "stdout",
     "output_type": "stream",
     "text": [
      "Generated spatial DataFrame:\n",
      "+---------+--------+------------------+\n",
      "|longitude|latitude|          geometry|\n",
      "+---------+--------+------------------+\n",
      "|   -180.0|   -90.0|  POINT (-180 -90)|\n",
      "|   -180.0|   -89.5|POINT (-180 -89.5)|\n",
      "|   -180.0|   -89.0|  POINT (-180 -89)|\n",
      "|   -180.0|   -88.5|POINT (-180 -88.5)|\n",
      "|   -180.0|   -88.0|  POINT (-180 -88)|\n",
      "+---------+--------+------------------+\n",
      "only showing top 5 rows\n",
      "\n",
      "root\n",
      " |-- longitude: double (nullable = true)\n",
      " |-- latitude: double (nullable = true)\n",
      " |-- geometry: geometry (nullable = true)\n",
      "\n"
     ]
    }
   ],
   "source": [
    "# 2. Define a coordinate grid with a 0.5-degree step\n",
    "longitude_step = 0.5\n",
    "latitude_step = 0.5\n",
    "\n",
    "longitudes = [i * longitude_step for i in range(int(-180 / longitude_step), int(180 / longitude_step) + 1)]\n",
    "latitudes = [i * latitude_step for i in range(int(-90 / latitude_step), int(90 / latitude_step) + 1)]\n",
    "\n",
    "# 3. Generate a list of all coordinate pairs\n",
    "coordinate_pairs = list(product(longitudes, latitudes))\n",
    "\n",
    "# 4. Create a Spark DataFrame from the list of coordinates\n",
    "schema = [\"longitude\", \"latitude\"]\n",
    "df_lat_lon = sedona.createDataFrame(coordinate_pairs, schema=schema)\n",
    "\n",
    "# 5. Create the Sedona geometry points\n",
    "# ST_Point takes longitude first, then latitude.\n",
    "spatial_df = df_lat_lon.withColumn(\n",
    "    \"geometry\",\n",
    "    F.expr(f\"ST_Point(longitude, latitude)\")\n",
    ")\n",
    "\n",
    "# Show the resulting DataFrame\n",
    "print(\"Generated spatial DataFrame:\")\n",
    "spatial_df.show(5)\n",
    "spatial_df.printSchema()"
   ]
  },
  {
   "cell_type": "code",
   "execution_count": null,
   "id": "d09a1cff-8493-4dba-ba6f-0763111e7706",
   "metadata": {
    "collapsed": true,
    "jupyter": {
     "outputs_hidden": true
    }
   },
   "outputs": [],
   "source": [
    "spatial_df.first()['geometry']"
   ]
  },
  {
   "cell_type": "code",
   "execution_count": null,
   "id": "5cd2238b-0505-41e7-871c-762210b9c0c9",
   "metadata": {
    "collapsed": true,
    "jupyter": {
     "outputs_hidden": true
    }
   },
   "outputs": [],
   "source": [
    "df_boundaries = sd.read_parquet(\"s3://overturemaps-us-west-2/release/2025-09-24.0/theme=divisions/type=division_area/*.parquet\")\n",
    "df.show(3)"
   ]
  },
  {
   "cell_type": "code",
   "execution_count": null,
   "id": "a5cb86ae-a1b6-487c-9bda-94a8445d7d96",
   "metadata": {
    "collapsed": true,
    "jupyter": {
     "outputs_hidden": true
    }
   },
   "outputs": [],
   "source": [
    "OVERTURE_RELEASE = \"2025-09-24.0\"\n",
    "COUNTRY_CODES_OF_INTEREST = [\"US\"]\n",
    "SOURCE_DATA_URL = f\"s3a://overturemaps-us-west-2/release/{OVERTURE_RELEASE}/theme=divisions/type=division_area\"\n",
    "OUTPUT_FILE = \"my_super_cool_data.parquet\""
   ]
  },
  {
   "cell_type": "code",
   "execution_count": null,
   "id": "74d695a5-6891-4368-b97a-7593a4010597",
   "metadata": {
    "collapsed": true,
    "jupyter": {
     "outputs_hidden": true
    }
   },
   "outputs": [],
   "source": [
    "country_overlap_condition = F.arrays_overlap(\n",
    "    F.col(\"country\"),\n",
    "    F.array(*[F.lit(x.upper()) for x in COUNTRY_CODES_OF_INTEREST]),\n",
    ")"
   ]
  },
  {
   "cell_type": "code",
   "execution_count": null,
   "id": "31decec6-4ea9-438e-b8ee-f514994eef5e",
   "metadata": {
    "collapsed": true,
    "jupyter": {
     "outputs_hidden": true
    }
   },
   "outputs": [],
   "source": [
    "source_df = (\n",
    "    sd.read.format(\"geoparquet\")\n",
    "    .load(SOURCE_DATA_URL)\n",
    "    .filter(col(\"country\").isin(COUNTRY_CODES_OF_INTEREST))\n",
    "    #.filter(col(\"region\")=='US-CA')\n",
    "    .filter(col(\"subtype\")=='country')\n",
    "    .withColumn(\"_overture_release_version\", F.lit(OVERTURE_RELEASE))\n",
    "    .withColumn(\"_ingest_timestamp\", F.current_timestamp())\n",
    ")"
   ]
  },
  {
   "cell_type": "code",
   "execution_count": null,
   "id": "afa21f04-90c5-4ea1-b2f0-7f0f2ac5212b",
   "metadata": {
    "collapsed": true,
    "jupyter": {
     "outputs_hidden": true
    }
   },
   "outputs": [],
   "source": [
    "USA_geom = source_df.selectExpr(\"geometry\", \"country\")\n",
    "USA_geom.show(5)\n",
    "map = SedonaKepler.create_map(USA_geom, name=\"USA\")\n",
    "map"
   ]
  },
  {
   "cell_type": "code",
   "execution_count": null,
   "id": "0b9c38f6-3eb9-4f47-8993-1c03fd120029",
   "metadata": {
    "collapsed": true,
    "jupyter": {
     "outputs_hidden": true
    }
   },
   "outputs": [],
   "source": [
    "#Used for testing with just CA\n",
    "#CA_geom = source_df.selectExpr(\"geometry\", \"region\")\n",
    "#CA_geom.show(5)\n",
    "#map1 = SedonaKepler.create_map(CA_geom, name=\"CA\")\n",
    "#map1\n",
    "#\n",
    "#CA_geom = source_df.selectExpr(\"geometry\", \"region\").filter(GeometryType(col('geometry'))=='MULTIPOLYGON')\n",
    "#CA_geom.show(5)\n",
    "#map2 = SedonaKepler.create_map(CA_geom, name=\"CA\")\n",
    "#map2\n",
    "#\n",
    "#CA_geom = source_df.selectExpr(\"geometry\", \"region\").filter(GeometryType(col('geometry'))=='POLYGON')\n",
    "#CA_geom.show(5)\n",
    "#map3 = SedonaKepler.create_map(CA_geom, name=\"CA\")\n",
    "#map3"
   ]
  },
  {
   "cell_type": "code",
   "execution_count": null,
   "id": "bee1b4c0-c432-4cd1-9c9b-eaefc0ee5f77",
   "metadata": {
    "collapsed": true,
    "jupyter": {
     "outputs_hidden": true
    }
   },
   "outputs": [],
   "source": []
  }
 ],
 "metadata": {
  "kernelspec": {
   "display_name": "Python 3 (ipykernel)",
   "language": "python",
   "name": "python3"
  },
  "language_info": {
   "codemirror_mode": {
    "name": "ipython",
    "version": 3
   },
   "file_extension": ".py",
   "mimetype": "text/x-python",
   "name": "python",
   "nbconvert_exporter": "python",
   "pygments_lexer": "ipython3",
   "version": "3.10.12"
  }
 },
 "nbformat": 4,
 "nbformat_minor": 5
}
